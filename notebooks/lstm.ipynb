{
 "cells": [
  {
   "cell_type": "markdown",
   "metadata": {},
   "source": [
    "### Table of Contents\n",
    "\n",
    "* [I. Putting data into fastText embedding](#chapter1)\n",
    "   * [1. Loading the FastText model to embedd the data](#section_1_1)\n",
    "   * [2. Loading the tweets](#section_1_2)\n",
    "   * [3. Displaying the distribution of tweet's length (usefull for the padding)](#section_1_3)\n",
    "   * [4. Embedding the tweets with FastText](#section_1_4)\n",
    "   * [5. Pad the embedded tweets](#section_1_5)\n",
    "   * [6. Split into training and validating set](#section_1_6)\n",
    "* [II. Building the LSTM model](#chapter2)\n",
    "    * [1. Architecture of the LSTM](#section_2_1)\n",
    "    * [1. Training of the LSTM](#section_2_2)\n",
    "* [III. Making the predictions for Submission](#chapter3)"
   ]
  },
  {
   "cell_type": "code",
   "execution_count": 30,
   "metadata": {},
   "outputs": [],
   "source": [
    "import sys\n",
    "\n",
    "sys.path.insert(1, '/Users/douglasbouchet/M1/ML/ml_project_2_sentwiment/src')\n",
    "\n",
    "import sklearn\n",
    "import fasttext\n",
    "import pandas as pd\n",
    "import numpy as np\n",
    "from sklearn.model_selection import train_test_split\n",
    "import keras\n",
    "import keras.backend as K\n",
    "from keras.layers import *\n",
    "from keras.losses import *\n",
    "from keras.models import *\n",
    "from keras.callbacks import *\n",
    "from keras.activations import *\n",
    "from keras.preprocessing.text import Tokenizer\n",
    "import matplotlib.pyplot as plt\n",
    "from matplotlib.pyplot import figure\n",
    "\n",
    "from load_utils import load_df"
   ]
  },
  {
   "cell_type": "markdown",
   "metadata": {},
   "source": [
    "### I. Putting data into fastText embedding <a class=\"anchor\" id=\"chapter1\"></a>"
   ]
  },
  {
   "cell_type": "markdown",
   "metadata": {},
   "source": [
    "#### 1. Loading the fastText model to embedd data  <a class=\"anchor\" id=\"section_1_1\"></a>"
   ]
  },
  {
   "cell_type": "code",
   "execution_count": 31,
   "metadata": {},
   "outputs": [
    {
     "name": "stderr",
     "output_type": "stream",
     "text": [
      "Warning : `load_model` does not return WordVectorModel or SupervisedModel any more, but a `FastText` object which is very similar.\n"
     ]
    }
   ],
   "source": [
    "# We assume that you have followed the step of the readme, and that you have put the model at the correct place\n",
    "model = fasttext.load_model(\"../data/word_Embeddings/FastText/fasttext_model.bin\")"
   ]
  },
  {
   "cell_type": "markdown",
   "metadata": {},
   "source": [
    "#### 2. Loading the tweets  <a class=\"anchor\" id=\"section_1_2\"></a>"
   ]
  },
  {
   "cell_type": "code",
   "execution_count": 32,
   "metadata": {},
   "outputs": [],
   "source": [
    "# We load our small dataframe (the training of lstm requires to much time if trained on the full data, and does not provide significant increase of accuracy)\n",
    "df = load_df(full=False,lemmatize=True)\n",
    "\n",
    "y = df.positive"
   ]
  },
  {
   "cell_type": "markdown",
   "metadata": {},
   "source": [
    "#### 3. Displaying the distribution of tweet's length (usefull for the padding)  <a class=\"anchor\" id=\"section_1_3\"></a>"
   ]
  },
  {
   "cell_type": "code",
   "execution_count": 33,
   "metadata": {},
   "outputs": [],
   "source": [
    "# For each tweet, we record its number of words\n",
    "tweet_len = {}\n",
    "for elem in df.tweet: \n",
    "    l = len(elem.split(\" \"))\n",
    "    old_val = tweet_len.get(l) or 0\n",
    "    tweet_len[l] = old_val + 1"
   ]
  },
  {
   "cell_type": "code",
   "execution_count": 34,
   "metadata": {},
   "outputs": [],
   "source": [
    "tweet_len = collections.OrderedDict(sorted(tweet_len.items()))"
   ]
  },
  {
   "cell_type": "code",
   "execution_count": 35,
   "metadata": {},
   "outputs": [
    {
     "data": {
      "image/png": "[encoded data removed]",
      "text/plain": [
       "<Figure size 640x480 with 1 Axes>"
      ]
     },
     "metadata": {
      "needs_background": "light"
     },
     "output_type": "display_data"
    }
   ],
   "source": [
    "figure(figsize=(8, 6), dpi=80)\n",
    "\n",
    "plt.xlabel(\"Number of words per tweet\")\n",
    "plt.ylabel(\"Number of tweet\")\n",
    "# There are almost no tweet longer than 30 words, so we avoid plotting them for a better visualization\n",
    "plt.bar(range(len(tweet_len))[0:30], list(tweet_len.values())[0:30], align='center')\n",
    "plt.xticks(range(len(tweet_len))[0:30], list(tweet_len.keys())[0:30])\n",
    "\n",
    "plt.show()"
   ]
  },
  {
   "cell_type": "markdown",
   "metadata": {},
   "source": [
    "#### 4. Embedding the tweet with fastText  <a class=\"anchor\" id=\"section_1_4\"></a>"
   ]
  },
  {
   "cell_type": "code",
   "execution_count": 36,
   "metadata": {},
   "outputs": [
    {
     "name": "stderr",
     "output_type": "stream",
     "text": [
      "/var/folders/2v/f5sm00lj343gkrnlrbwvbls00000gn/T/ipykernel_20007/1244914488.py:9: VisibleDeprecationWarning: Creating an ndarray from ragged nested sequences (which is a list-or-tuple of lists-or-tuples-or ndarrays with different lengths or shapes) is deprecated. If you meant to do this, you must specify 'dtype=object' when creating the ndarray.\n",
      "  embedded = np.asarray(embedded)\n"
     ]
    }
   ],
   "source": [
    "# For each word of each tweet, we compute its fastText embedding \n",
    "embedded = []\n",
    "for tweet in df.tweet:\n",
    "    vec = []\n",
    "    for word in tweet.split(\" \"):\n",
    "        # get the embedding of the word\n",
    "        vec.append(model.get_word_vector(word))\n",
    "    embedded.append(np.asarray(vec))\n",
    "embedded = np.asarray(embedded)"
   ]
  },
  {
   "cell_type": "markdown",
   "metadata": {},
   "source": [
    "#### 5. Pad the embedded tweets  <a class=\"anchor\" id=\"section_1_5\"></a>"
   ]
  },
  {
   "cell_type": "code",
   "execution_count": 37,
   "metadata": {},
   "outputs": [],
   "source": [
    "# We need all our inputs of our LSTM to have same length, that's why we apply padding. 22 is the optimal size (explained in the report). 'pre' is also better\n",
    "# than 'post'. Using a padding of 22 allows to capture all features of almost all tweets (see figure above).\n",
    "padded_x = tf.keras.preprocessing.sequence.pad_sequences(\n",
    "    embedded, maxlen=22, padding=\"pre\", dtype='float32'\n",
    ")\n"
   ]
  },
  {
   "cell_type": "markdown",
   "metadata": {},
   "source": [
    "#### 6. Splitting into training and validating set  <a class=\"anchor\" id=\"section_1_6\"></a>"
   ]
  },
  {
   "cell_type": "code",
   "execution_count": 38,
   "metadata": {},
   "outputs": [
    {
     "data": {
      "text/plain": [
       "((196664, 22, 300), (49166, 22, 300), (196664,), (49166,))"
      ]
     },
     "execution_count": 38,
     "metadata": {},
     "output_type": "execute_result"
    }
   ],
   "source": [
    "# We use a valid set of 20% of the total data\n",
    "x_train, x_test, y_train, y_test = train_test_split(padded_x, y, test_size=0.2, random_state=26105111)\n",
    "x_train.shape, x_test.shape, y_train.shape, y_test.shape"
   ]
  },
  {
   "cell_type": "code",
   "execution_count": 39,
   "metadata": {},
   "outputs": [],
   "source": [
    "# Output of the LSTM will have a sigmoid as activation function, that's why we transform the -1 labels into 0\n",
    "new_y_train = []\n",
    "for i,elem in enumerate(y_train):\n",
    "    if(elem == -1):\n",
    "        new_y_train.append(0)\n",
    "    else: \n",
    "        new_y_train.append(1)\n",
    "\n",
    "new_y_test = []\n",
    "for i,elem in enumerate(y_test):\n",
    "    if(elem == -1):\n",
    "        new_y_test.append(0)\n",
    "    else: \n",
    "        new_y_test.append(1)"
   ]
  },
  {
   "cell_type": "markdown",
   "metadata": {},
   "source": [
    "### II. Building the LSTM model <a class=\"anchor\" id=\"chapter2\"></a>"
   ]
  },
  {
   "cell_type": "markdown",
   "metadata": {},
   "source": [
    "#### 1. Architecture of the LSTM  <a class=\"anchor\" id=\"section_2_1\"></a>"
   ]
  },
  {
   "cell_type": "code",
   "execution_count": 40,
   "metadata": {},
   "outputs": [
    {
     "name": "stdout",
     "output_type": "stream",
     "text": [
      "Model: \"sequential_1\"\n",
      "_________________________________________________________________\n",
      " Layer (type)                Output Shape              Param #   \n",
      "=================================================================\n",
      " conv1d_3 (Conv1D)           (None, 22, 32)            28832     \n",
      "                                                                 \n",
      " conv1d_4 (Conv1D)           (None, 22, 32)            3104      \n",
      "                                                                 \n",
      " conv1d_5 (Conv1D)           (None, 22, 32)            3104      \n",
      "                                                                 \n",
      " max_pooling1d_1 (MaxPooling  (None, 7, 32)            0         \n",
      " 1D)                                                             \n",
      "                                                                 \n",
      " bidirectional_1 (Bidirectio  (None, 1024)             2232320   \n",
      " nal)                                                            \n",
      "                                                                 \n",
      " dense_4 (Dense)             (None, 512)               524800    \n",
      "                                                                 \n",
      " dropout_3 (Dropout)         (None, 512)               0         \n",
      "                                                                 \n",
      " dense_5 (Dense)             (None, 512)               262656    \n",
      "                                                                 \n",
      " dropout_4 (Dropout)         (None, 512)               0         \n",
      "                                                                 \n",
      " dense_6 (Dense)             (None, 512)               262656    \n",
      "                                                                 \n",
      " dropout_5 (Dropout)         (None, 512)               0         \n",
      "                                                                 \n",
      " dense_7 (Dense)             (None, 1)                 513       \n",
      "                                                                 \n",
      "=================================================================\n",
      "Total params: 3,317,985\n",
      "Trainable params: 3,317,985\n",
      "Non-trainable params: 0\n",
      "_________________________________________________________________\n"
     ]
    },
    {
     "name": "stderr",
     "output_type": "stream",
     "text": [
      "/Users/douglasbouchet/anaconda3/envs/ml/lib/python3.8/site-packages/keras/optimizer_v2/adam.py:105: UserWarning: The `lr` argument is deprecated, use `learning_rate` instead.\n",
      "  super(Adam, self).__init__(name, **kwargs)\n"
     ]
    }
   ],
   "source": [
    "from keras.models import Sequential\n",
    "from keras.layers import Conv1D, Dropout, Dense, Flatten, LSTM, MaxPooling1D, Bidirectional\n",
    "from tensorflow.keras.optimizers import Adam \n",
    "\n",
    "from keras.callbacks import EarlyStopping, TensorBoard\n",
    "\n",
    "# We declare the architecture of the LSTM.\n",
    "# To resume what we said in the report:\n",
    "#  Conv1D capture topics\n",
    "#  MaxPadding capture most important feature\n",
    "#  LSTM allow take into account the order of words inside the tweet\n",
    "#  Dropout help reduce the overfitting\n",
    "#  Binary classification so 1 output neuron with sigmoid activation function\n",
    "\n",
    "lstm = Sequential()\n",
    "\n",
    "lstm.add(Conv1D(32, kernel_size=3, activation='elu', padding='same',\n",
    "                 input_shape=(22, 300)))\n",
    "lstm.add(Conv1D(32, kernel_size=3, activation='elu', padding='same'))\n",
    "lstm.add(Conv1D(32, kernel_size=3, activation='relu', padding='same'))\n",
    "lstm.add(MaxPooling1D(pool_size=3))\n",
    "\n",
    "lstm.add(Bidirectional(LSTM(512, dropout=0.2, recurrent_dropout=0.3)))\n",
    "\n",
    "lstm.add(Dense(512, activation='sigmoid'))\n",
    "lstm.add(Dropout(0.2))\n",
    "lstm.add(Dense(512, activation='sigmoid'))\n",
    "lstm.add(Dropout(0.25))\n",
    "lstm.add(Dense(512, activation='sigmoid'))\n",
    "lstm.add(Dropout(0.25))\n",
    "\n",
    "lstm.add(Dense(1, activation='sigmoid'))\n",
    "\n",
    "# We used the adam optimizer. Learning rate has been tuned (see report). Use binary_crossentropy and accuracy to correctly measure performances of our network \n",
    "lstm.compile(loss='binary_crossentropy', optimizer=Adam(lr=0.001, decay=1e-6), metrics=['accuracy'])\n",
    "\n",
    "lstm.summary()"
   ]
  },
  {
   "cell_type": "markdown",
   "metadata": {},
   "source": [
    "#### 2. Training of the model  <a class=\"anchor\" id=\"section_2_2\"></a>"
   ]
  },
  {
   "cell_type": "code",
   "execution_count": 41,
   "metadata": {},
   "outputs": [
    {
     "name": "stdout",
     "output_type": "stream",
     "text": [
      "Epoch 1/5\n",
      "385/385 [==============================] - 354s 901ms/step - loss: 0.4672 - accuracy: 0.7584 - val_loss: 0.3854 - val_accuracy: 0.8184\n",
      "Epoch 2/5\n",
      "385/385 [==============================] - 307s 796ms/step - loss: 0.3847 - accuracy: 0.8206 - val_loss: 0.3739 - val_accuracy: 0.8266\n",
      "Epoch 3/5\n",
      "385/385 [==============================] - 350s 910ms/step - loss: 0.3692 - accuracy: 0.8288 - val_loss: 0.3641 - val_accuracy: 0.8316\n",
      "Epoch 4/5\n",
      "385/385 [==============================] - 338s 878ms/step - loss: 0.3572 - accuracy: 0.8352 - val_loss: 0.3594 - val_accuracy: 0.8343\n",
      "Epoch 5/5\n",
      "385/385 [==============================] - 334s 867ms/step - loss: 0.3508 - accuracy: 0.8392 - val_loss: 0.3614 - val_accuracy: 0.8344\n"
     ]
    },
    {
     "data": {
      "text/plain": [
       "<keras.callbacks.History at 0x7faaa0425700>"
      ]
     },
     "execution_count": 41,
     "metadata": {},
     "output_type": "execute_result"
    }
   ],
   "source": [
    "# Next we fit LSTM on our training data. Batch size and epochs have been tuned (see report).\n",
    "# The expected runing time should be ~ TODO (without GPU)\n",
    "lstm.fit(x_train, pd.Series(new_y_train), batch_size=512, shuffle=True, epochs=5,\n",
    "         validation_data=(x_test, pd.Series(new_y_test)))"
   ]
  },
  {
   "cell_type": "markdown",
   "metadata": {},
   "source": [
    "### 3. Making the predictions for Submission <a class=\"anchor\" id=\"chapter_3\"></a>"
   ]
  },
  {
   "cell_type": "code",
   "execution_count": 42,
   "metadata": {},
   "outputs": [
    {
     "name": "stderr",
     "output_type": "stream",
     "text": [
      "/var/folders/2v/f5sm00lj343gkrnlrbwvbls00000gn/T/ipykernel_20007/2783233971.py:11: VisibleDeprecationWarning: Creating an ndarray from ragged nested sequences (which is a list-or-tuple of lists-or-tuples-or ndarrays with different lengths or shapes) is deprecated. If you meant to do this, you must specify 'dtype=object' when creating the ndarray.\n",
      "  embedded = np.asarray(embedded)\n"
     ]
    }
   ],
   "source": [
    "data_test = pd.read_csv('../data/data_submission_preprocessed.csv')\n",
    "\n",
    "# For each word of each tweet, we compute its fastText embedding \n",
    "embedded = []\n",
    "for tweet in data_test.tweet:\n",
    "    vec = []\n",
    "    for word in tweet.split(\" \"):\n",
    "        # get the embedding of the word\n",
    "        vec.append(model.get_word_vector(word))\n",
    "    embedded.append(np.asarray(vec))\n",
    "embedded = np.asarray(embedded)\n",
    "\n",
    "# pad the inputs\n",
    "padded_x = tf.keras.preprocessing.sequence.pad_sequences(\n",
    "    embedded, maxlen=22, padding=\"pre\", dtype='float32'\n",
    ")\n",
    "\n",
    "# for each tweet, we use the LSTM to predict a label\n",
    "predictions = lstm(padded_x)\n",
    "\n",
    "# we replace labels by -1 if it was less than 0.5 else by 1, as we use a sigmoid at the end of the LSTM\n",
    "res = []\n",
    "for i,elem in enumerate(predictions):\n",
    "    if(elem >= 0.5):\n",
    "        res.append(1)\n",
    "    else:\n",
    "        res.append(-1)\n",
    "#We rename the Id column in order to be accepted in the submission platform\n",
    "data_test = data_test.rename(columns={'tweet_idx':'Id'})\n",
    "# We add the prections column\n",
    "data_test['Prediction'] = res\n",
    "# We save to a csv file only Id, Prediction columns\n",
    "data_test[['Id', 'Prediction']].to_csv('../submission.csv', encoding='utf-8', index=False)\n"
   ]
  },
  {
   "cell_type": "code",
   "execution_count": null,
   "metadata": {},
   "outputs": [],
   "source": []
  }
 ],
 "metadata": {
  "interpreter": {
   "hash": "c4bf98731e39b0f330e4e7fe339590b91375d5c2f965cb189d278f0fc33c4d2e"
  },
  "kernelspec": {
   "display_name": "Python 3.8.12 64-bit ('ml': conda)",
   "language": "python",
   "name": "python3"
  },
  "language_info": {
   "codemirror_mode": {
    "name": "ipython",
    "version": 3
   },
   "file_extension": ".py",
   "mimetype": "text/x-python",
   "name": "python",
   "nbconvert_exporter": "python",
   "pygments_lexer": "ipython3",
   "version": "3.8.12"
  },
  "orig_nbformat": 4
 },
 "nbformat": 4,
 "nbformat_minor": 2
}
