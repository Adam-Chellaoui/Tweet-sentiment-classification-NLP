{
 "cells": [
  {
   "cell_type": "markdown",
   "id": "c019e277",
   "metadata": {},
   "source": [
    "### Table of Contents\n",
    "\n",
    "* [I. Creating The Embbeding](#chapter1)\n",
    "    * [1. Preprocessing](#section_1_1)\n",
    "    * [2. Training The Embbeding Model](#section_1_2)\n",
    "* [II. Transforming Text into Vectors](#chapter2)\n",
    "    * [1. Training Data](#section_2_1)\n",
    "    * [2. Validation Data](#section_2_2)\n",
    "    * [3. Test Data](#section_2_3)\n",
    "* [III. Machine Learning Classification Models](#chapter3)\n",
    "    * [1. Naive Bayes](#section_3_1)\n",
    "    * [2. Logistic Regression](#section_3_2)\n",
    "    * [3. Random Forest](#section_3_3)\n",
    "    * [4. SVM](#section_3_4)\n",
    "* [IV. Results](#chapter4)\n",
    "* [V. Making the predictions for Submission](#chapter5)"
   ]
  },
  {
   "cell_type": "code",
   "execution_count": 22,
   "id": "79a56128",
   "metadata": {},
   "outputs": [],
   "source": [
    "import pandas as pd\n",
    "import numpy as np\n",
    "from evaluate import model_Evaluate\n",
    "import time"
   ]
  },
  {
   "cell_type": "markdown",
   "id": "92bcac27",
   "metadata": {},
   "source": [
    "### I. Creating The Embbeding <a class=\"anchor\" id=\"chapter1\"></a>"
   ]
  },
  {
   "cell_type": "markdown",
   "id": "aa72b91a",
   "metadata": {},
   "source": [
    "#### 1. Preprocessing <a class=\"anchor\" id=\"section_1_1\"></a>"
   ]
  },
  {
   "cell_type": "markdown",
   "id": "c7ffe83c",
   "metadata": {},
   "source": [
    "In fact, we import the already preprocessed data, that have been creating using the preprocess_data function we provide in the \"utils\" directory. The data has been saved in csv format and can be found on the Google Drive repo."
   ]
  },
  {
   "cell_type": "code",
   "execution_count": 2,
   "id": "0b75c507",
   "metadata": {},
   "outputs": [],
   "source": [
    "data = pd.read_csv('data_preprocessed.csv')\n",
    "data_test = pd.read_csv('data_submission_preprocessed.csv')"
   ]
  },
  {
   "cell_type": "markdown",
   "id": "51ad4824",
   "metadata": {},
   "source": [
    "Then, we tokenize :"
   ]
  },
  {
   "cell_type": "code",
   "execution_count": 3,
   "id": "9d6c172f",
   "metadata": {},
   "outputs": [],
   "source": [
    "from gensim.utils import simple_preprocess\n",
    "data['tweet_tokenized'] = [simple_preprocess(line, deacc=True) for line in data['tweet']]\n",
    "data_test['tweet_tokenized'] = [simple_preprocess(line, deacc=True) for line in data_test['tweet']]"
   ]
  },
  {
   "cell_type": "markdown",
   "id": "8bc0b1d1",
   "metadata": {},
   "source": [
    "And we use stemming, because preprocessed data don't include a stemming step, and it shows a better performance."
   ]
  },
  {
   "cell_type": "code",
   "execution_count": 4,
   "id": "b9adf739",
   "metadata": {},
   "outputs": [],
   "source": [
    "from gensim.parsing.porter import PorterStemmer\n",
    "porter_stemmer = PorterStemmer()\n",
    "# Get the stemmed_tokens\n",
    "data['tweet_stemmed'] = [[porter_stemmer.stem(word) for word in tokens] for tokens in data['tweet_tokenized']]\n",
    "data_test['tweet_stemmed'] = [[porter_stemmer.stem(word) for word in tokens] for tokens in data_test['tweet_tokenized']]"
   ]
  },
  {
   "cell_type": "markdown",
   "id": "6f33609f",
   "metadata": {},
   "source": [
    "We put together all the preprocessed tokens together in order to train our embedding on all the words that might occur both in the train and the test data."
   ]
  },
  {
   "cell_type": "code",
   "execution_count": null,
   "id": "385b60ef",
   "metadata": {},
   "outputs": [],
   "source": [
    "stemmed_tokens = pd.concat([data['tweet_stemmed'],data_test['tweet_stemmed']], axis=0)"
   ]
  },
  {
   "cell_type": "markdown",
   "id": "99d73610",
   "metadata": {},
   "source": [
    "#### 2. Training the embedding model <a class=\"anchor\" id=\"section_1_2\"></a>"
   ]
  },
  {
   "cell_type": "code",
   "execution_count": null,
   "id": "76de7e50",
   "metadata": {
    "scrolled": true
   },
   "outputs": [],
   "source": [
    "from gensim.models import Word2Vec\n",
    "import time\n",
    "\n",
    "size = 500 # size of the vector\n",
    "window = 5 # size of the window\n",
    "min_count = 1 # min occurence for taking the number in the vocabulary\n",
    "workers = 8 # number of CPUs used\n",
    "sg = 1 # we use Skip-Gram\n",
    "\n",
    "start_time = time.time()\n",
    "# Train the Word2Vec Model\n",
    "model = Word2Vec(stemmed_tokens, min_count = min_count, vector_size = size, workers = workers, window = window, sg = sg)\n",
    "print(\"Time taken to train word2vec model: \" + str(time.time() - start_time))"
   ]
  },
  {
   "cell_type": "code",
   "execution_count": null,
   "id": "2484ff16",
   "metadata": {},
   "outputs": [],
   "source": [
    "# If we want to save the model : \n",
    "#model.save('w2v_500.model')"
   ]
  },
  {
   "cell_type": "code",
   "execution_count": 5,
   "id": "627329bc",
   "metadata": {},
   "outputs": [],
   "source": [
    "# If we already have trained the model, we import it\n",
    "from gensim.models import Word2Vec\n",
    "model = Word2Vec.load('w2v_500.model') "
   ]
  },
  {
   "cell_type": "markdown",
   "id": "477c328c",
   "metadata": {},
   "source": [
    "### II. Transforming Text into Vectors <a class=\"anchor\" id=\"chapter2\"></a>"
   ]
  },
  {
   "cell_type": "code",
   "execution_count": 6,
   "id": "a81ca9a5",
   "metadata": {},
   "outputs": [],
   "source": [
    "# We clean data from potentially empty tweets after the processing\n",
    "indexes_to_drop = data[data[\"tweet_stemmed\"].str.len() == 0].index.values\n",
    "data.drop(indexes_to_drop, axis=0, inplace=True)"
   ]
  },
  {
   "cell_type": "markdown",
   "id": "51274809",
   "metadata": {},
   "source": [
    "We first split the labeled data, by keeping 80% for training and 20% for validation."
   ]
  },
  {
   "cell_type": "code",
   "execution_count": 7,
   "id": "40a90c39",
   "metadata": {},
   "outputs": [],
   "source": [
    "from sklearn.model_selection import train_test_split\n",
    "data_train, data_valid = train_test_split(data, test_size=0.2, random_state=26105111)"
   ]
  },
  {
   "cell_type": "markdown",
   "id": "4b899bbe",
   "metadata": {},
   "source": [
    "#### 1. Training Data <a class=\"anchor\" id=\"section_2_1\"></a>"
   ]
  },
  {
   "cell_type": "code",
   "execution_count": 8,
   "id": "bbb53f45",
   "metadata": {
    "scrolled": true
   },
   "outputs": [],
   "source": [
    "X_train_temp = []\n",
    "for index, row in data_train.iterrows():\n",
    "        # We represent each tweet as the mean of its words vector\n",
    "        vector = np.array((np.mean([model.wv[token]  for token in row['tweet_stemmed']], axis=0)))\n",
    "        X_train_temp.append(vector)"
   ]
  },
  {
   "cell_type": "code",
   "execution_count": 9,
   "id": "93c4fb9b",
   "metadata": {
    "scrolled": false
   },
   "outputs": [],
   "source": [
    "X_train_array = np.array(X_train_temp)\n",
    "y_train_array = data_train['positive'].values"
   ]
  },
  {
   "cell_type": "markdown",
   "id": "f9d23959",
   "metadata": {},
   "source": [
    "#### 2. Validation Data <a class=\"anchor\" id=\"section_2_2\"></a>"
   ]
  },
  {
   "cell_type": "code",
   "execution_count": 10,
   "id": "d4017065",
   "metadata": {},
   "outputs": [],
   "source": [
    "X_valid_temp = []\n",
    "for index, row in data_valid.iterrows():\n",
    "        # We represent each tweet as the mean of its words vector\n",
    "        vector = np.array((np.mean([model.wv[token]  for token in row['tweet_stemmed']], axis=0)))\n",
    "        X_valid_temp.append(vector)"
   ]
  },
  {
   "cell_type": "code",
   "execution_count": 11,
   "id": "c8d5d8e0",
   "metadata": {},
   "outputs": [],
   "source": [
    "X_valid_array = np.array(X_valid_temp)\n",
    "y_valid_array = data_valid['positive'].values"
   ]
  },
  {
   "cell_type": "markdown",
   "id": "2bf790be",
   "metadata": {},
   "source": [
    "#### 3. Test Data <a class=\"anchor\" id=\"section_2_3\"></a>"
   ]
  },
  {
   "cell_type": "code",
   "execution_count": 32,
   "id": "ce29af5a",
   "metadata": {},
   "outputs": [],
   "source": [
    "X_test_temp = []\n",
    "for index, row in data_test.iterrows():\n",
    "        vector = np.array((np.mean([model.wv[token]  for token in row['tweet_stemmed']], axis=0)))\n",
    "        X_test_temp.append(vector)"
   ]
  },
  {
   "cell_type": "code",
   "execution_count": 33,
   "id": "6dfb3168",
   "metadata": {},
   "outputs": [],
   "source": [
    "X_test_array = np.array(X_test_temp)"
   ]
  },
  {
   "cell_type": "markdown",
   "id": "2816aa30",
   "metadata": {},
   "source": [
    "### III. Machine Learning Classification Models <a class=\"anchor\" id=\"chapter3\"></a>"
   ]
  },
  {
   "cell_type": "markdown",
   "id": "ada06088",
   "metadata": {},
   "source": [
    "#### 1. Naive Bayes <a class=\"anchor\" id=\"section_3_1\"></a>"
   ]
  },
  {
   "cell_type": "code",
   "execution_count": 19,
   "id": "986d5f66",
   "metadata": {},
   "outputs": [
    {
     "name": "stdout",
     "output_type": "stream",
     "text": [
      "Time taken to train the model: 36.23\n"
     ]
    }
   ],
   "source": [
    "from sklearn.naive_bayes import BernoulliNB\n",
    "\n",
    "clf_nb = BernoulliNB(alpha=0.1)\n",
    "start_time = time.time()\n",
    "clf_nb.fit(X_train_array, y_train_array)\n",
    "print(\"Time taken to train the model: {:.2f}\".format(time.time() - start_time))"
   ]
  },
  {
   "cell_type": "code",
   "execution_count": 20,
   "id": "c4369102",
   "metadata": {},
   "outputs": [],
   "source": [
    "score_nb = clf_nb.score(X_valid_array, y_valid_array)"
   ]
  },
  {
   "cell_type": "code",
   "execution_count": 21,
   "id": "14bf0f55",
   "metadata": {
    "scrolled": true
   },
   "outputs": [
    {
     "name": "stdout",
     "output_type": "stream",
     "text": [
      "Accuracy on the validation set : 0.61554\n"
     ]
    }
   ],
   "source": [
    "print('Accuracy on the validation set : {:.5f}'.format(score_nb))"
   ]
  },
  {
   "cell_type": "markdown",
   "id": "314d6eef",
   "metadata": {},
   "source": [
    "#### 2. Logistic Regression <a class=\"anchor\" id=\"section_3_2\"></a>"
   ]
  },
  {
   "cell_type": "code",
   "execution_count": 23,
   "id": "d3401567",
   "metadata": {},
   "outputs": [
    {
     "name": "stdout",
     "output_type": "stream",
     "text": [
      "Time taken to train the model: 163.70\n"
     ]
    }
   ],
   "source": [
    "from sklearn.linear_model import LogisticRegression\n",
    "\n",
    "clf_lg = LogisticRegression(solver='lbfgs', C=0.1, max_iter=400)\n",
    "start_time = time.time()\n",
    "clf_lg.fit(X_train_array, y_train_array)\n",
    "print(\"Time taken to train the model: {:.2f}\".format(time.time() - start_time))"
   ]
  },
  {
   "cell_type": "code",
   "execution_count": 24,
   "id": "ff990657",
   "metadata": {},
   "outputs": [],
   "source": [
    "score_lg = clf_lg.score(X_valid_array, y_valid_array)"
   ]
  },
  {
   "cell_type": "code",
   "execution_count": 25,
   "id": "943cf694",
   "metadata": {},
   "outputs": [
    {
     "name": "stdout",
     "output_type": "stream",
     "text": [
      "Accuracy on the validation set : 0.78094\n"
     ]
    }
   ],
   "source": [
    "print('Accuracy on the validation set : {:.5f}'.format(score_lg))"
   ]
  },
  {
   "cell_type": "markdown",
   "id": "c9854474",
   "metadata": {},
   "source": [
    "#### 3. Random Forest<a class=\"anchor\" id=\"section_3_3\"></a>"
   ]
  },
  {
   "cell_type": "code",
   "execution_count": 26,
   "id": "b23989eb",
   "metadata": {},
   "outputs": [
    {
     "name": "stdout",
     "output_type": "stream",
     "text": [
      "Time taken to train the model: 178.35\n"
     ]
    }
   ],
   "source": [
    "from sklearn.ensemble import RandomForestClassifier\n",
    "\n",
    "clf_rdf = RandomForestClassifier(max_depth=3, bootstrap=True, n_jobs=-1, min_samples_leaf=5)\n",
    "start_time = time.time()\n",
    "clf_rdf.fit(X_train_array, y_train_array)\n",
    "print(\"Time taken to train the model: {:.2f}\".format(time.time() - start_time))"
   ]
  },
  {
   "cell_type": "code",
   "execution_count": 27,
   "id": "6730a3dd",
   "metadata": {},
   "outputs": [],
   "source": [
    "score_rdf = clf_rdf.score(X_valid_array, y_valid_array)"
   ]
  },
  {
   "cell_type": "code",
   "execution_count": 28,
   "id": "2d8cf2d1",
   "metadata": {},
   "outputs": [
    {
     "name": "stdout",
     "output_type": "stream",
     "text": [
      "Accuracy on the validation set : 0.63925\n"
     ]
    }
   ],
   "source": [
    "print('Accuracy on the validation set : {:.5f}'.format(score_rdf))"
   ]
  },
  {
   "cell_type": "markdown",
   "id": "d416ae89",
   "metadata": {},
   "source": [
    "#### 4. SVM<a class=\"anchor\" id=\"section_3_4\"></a>"
   ]
  },
  {
   "cell_type": "code",
   "execution_count": 14,
   "id": "f0d9157a",
   "metadata": {},
   "outputs": [
    {
     "name": "stdout",
     "output_type": "stream",
     "text": [
      "Time taken to train the model: 8.67\n"
     ]
    }
   ],
   "source": [
    "# For the SVM classifier, we use only the 100 000 first tweets for the training because of time expensiveness\n",
    "# of the SVM training process in the number of data points used to create the margins. Although, it gives quite \n",
    "# good results\n",
    "\n",
    "from sklearn import svm\n",
    "clf_svm = svm.LinearSVC(C=0.1, max_iter=3000)\n",
    "start_time = time.time()\n",
    "clf_svm.fit(X_train_array[:100000], y_train_array[:100000])\n",
    "print(\"Time taken to train the model: {:.2f}\".format(time.time() - start_time))"
   ]
  },
  {
   "cell_type": "code",
   "execution_count": 15,
   "id": "04c4fbc2",
   "metadata": {},
   "outputs": [],
   "source": [
    "score_svm = clf_svm.score(X_valid_array, y_valid_array)"
   ]
  },
  {
   "cell_type": "code",
   "execution_count": 36,
   "id": "b0c85516",
   "metadata": {},
   "outputs": [
    {
     "name": "stdout",
     "output_type": "stream",
     "text": [
      "Accuracy on the validation set : 0.77991\n"
     ]
    }
   ],
   "source": [
    "print('Accuracy on the validation set : {:.5f}'.format(score_svm))"
   ]
  },
  {
   "cell_type": "markdown",
   "id": "e1fb725c",
   "metadata": {},
   "source": [
    "### IV. Results <a class=\"anchor\" id=\"chapter4\"></a>"
   ]
  },
  {
   "cell_type": "markdown",
   "id": "29d051b1",
   "metadata": {},
   "source": [
    "Finally, we show the main classification metrics for each of our classsifier :"
   ]
  },
  {
   "cell_type": "code",
   "execution_count": 29,
   "id": "265f5b51",
   "metadata": {},
   "outputs": [
    {
     "name": "stdout",
     "output_type": "stream",
     "text": [
      "Naive Bayes :\n",
      "\n",
      "              precision    recall  f1-score   support\n",
      "\n",
      "          -1       0.68      0.45      0.54    248086\n",
      "           1       0.58      0.78      0.67    243544\n",
      "\n",
      "    accuracy                           0.62    491630\n",
      "   macro avg       0.63      0.62      0.61    491630\n",
      "weighted avg       0.63      0.62      0.60    491630\n",
      "\n"
     ]
    },
    {
     "data": {
      "image/png": "[encoded data removed]",
      "text/plain": [
       "<Figure size 432x288 with 2 Axes>"
      ]
     },
     "metadata": {
      "needs_background": "light"
     },
     "output_type": "display_data"
    }
   ],
   "source": [
    "print(\"Naive Bayes :\\n\")\n",
    "model_Evaluate(clf_nb, X_valid_array, y_valid_array)"
   ]
  },
  {
   "cell_type": "code",
   "execution_count": 30,
   "id": "041038b2",
   "metadata": {},
   "outputs": [
    {
     "name": "stdout",
     "output_type": "stream",
     "text": [
      "Logistic Regression :\n",
      "\n",
      "              precision    recall  f1-score   support\n",
      "\n",
      "          -1       0.80      0.76      0.78    248086\n",
      "           1       0.77      0.80      0.78    243544\n",
      "\n",
      "    accuracy                           0.78    491630\n",
      "   macro avg       0.78      0.78      0.78    491630\n",
      "weighted avg       0.78      0.78      0.78    491630\n",
      "\n"
     ]
    },
    {
     "data": {
      "image/png": "[encoded data removed]",
      "text/plain": [
       "<Figure size 432x288 with 2 Axes>"
      ]
     },
     "metadata": {
      "needs_background": "light"
     },
     "output_type": "display_data"
    }
   ],
   "source": [
    "print(\"Logistic Regression :\\n\")\n",
    "model_Evaluate(clf_lg, X_valid_array, y_valid_array)"
   ]
  },
  {
   "cell_type": "code",
   "execution_count": 31,
   "id": "b449fdf9",
   "metadata": {},
   "outputs": [
    {
     "name": "stdout",
     "output_type": "stream",
     "text": [
      "Random Forest :\n",
      "\n",
      "              precision    recall  f1-score   support\n",
      "\n",
      "          -1       0.78      0.40      0.53    248086\n",
      "           1       0.59      0.89      0.71    243544\n",
      "\n",
      "    accuracy                           0.64    491630\n",
      "   macro avg       0.69      0.64      0.62    491630\n",
      "weighted avg       0.69      0.64      0.62    491630\n",
      "\n"
     ]
    },
    {
     "data": {
      "image/png": "[encoded data removed]",
      "text/plain": [
       "<Figure size 432x288 with 2 Axes>"
      ]
     },
     "metadata": {
      "needs_background": "light"
     },
     "output_type": "display_data"
    }
   ],
   "source": [
    "print(\"Random Forest :\\n\")\n",
    "model_Evaluate(clf_rdf, X_valid_array, y_valid_array)"
   ]
  },
  {
   "cell_type": "code",
   "execution_count": 18,
   "id": "3e2c7a9b",
   "metadata": {},
   "outputs": [
    {
     "name": "stdout",
     "output_type": "stream",
     "text": [
      "SVM :\n",
      "\n",
      "              precision    recall  f1-score   support\n",
      "\n",
      "          -1       0.80      0.76      0.78    248086\n",
      "           1       0.76      0.80      0.78    243544\n",
      "\n",
      "    accuracy                           0.78    491630\n",
      "   macro avg       0.78      0.78      0.78    491630\n",
      "weighted avg       0.78      0.78      0.78    491630\n",
      "\n"
     ]
    },
    {
     "data": {
      "image/png": "[encoded data removed]",
      "text/plain": [
       "<Figure size 432x288 with 2 Axes>"
      ]
     },
     "metadata": {
      "needs_background": "light"
     },
     "output_type": "display_data"
    }
   ],
   "source": [
    "print(\"SVM :\\n\")\n",
    "model_Evaluate(clf_svm, X_valid_array, y_valid_array)"
   ]
  },
  {
   "cell_type": "markdown",
   "id": "af9f1067",
   "metadata": {},
   "source": [
    "To conclude, the best accuracy was found with the Logistic Regression classifier, that we use to submit a prediction on AI Crowd down bellow :"
   ]
  },
  {
   "cell_type": "markdown",
   "id": "f53665e9",
   "metadata": {},
   "source": [
    "### V. Making the predictions for Submission <a class=\"anchor\" id=\"chapter5\"></a>"
   ]
  },
  {
   "cell_type": "code",
   "execution_count": 35,
   "id": "3cdb0e54",
   "metadata": {},
   "outputs": [],
   "source": [
    "y_test_pred = clf_lg.predict(X_test_array)\n",
    "#We rename the Id column in order to be accepted in the submission platform\n",
    "data_test = data_test.rename(columns={'tweet_idx':'Id'})\n",
    "# We add the prections column\n",
    "data_test['Prediction'] = y_test_pred\n",
    "# We save to a csv file only Id, Prediction columns\n",
    "data_test[['Id', 'Prediction']].to_csv('submission.csv', encoding='utf-8', index=False)"
   ]
  },
  {
   "cell_type": "code",
   "execution_count": null,
   "id": "0ad45d3b",
   "metadata": {},
   "outputs": [],
   "source": []
  }
 ],
 "metadata": {
  "kernelspec": {
   "display_name": "Python 3",
   "language": "python",
   "name": "python3"
  },
  "language_info": {
   "codemirror_mode": {
    "name": "ipython",
    "version": 3
   },
   "file_extension": ".py",
   "mimetype": "text/x-python",
   "name": "python",
   "nbconvert_exporter": "python",
   "pygments_lexer": "ipython3",
   "version": "3.8.8"
  }
 },
 "nbformat": 4,
 "nbformat_minor": 5
}
