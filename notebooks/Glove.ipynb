{
 "cells": [
  {
   "cell_type": "markdown",
   "metadata": {},
   "source": [
    "### Table of Contents\n",
    "\n",
    "* [I. Creating The Embbeding](#chapter1)\n",
    "    * [1. Word to pre-trained Embedding](#section_1_1)\n",
    "    * [2. Building our vocabulary](#section_1_2)\n",
    "    * [3. Building the embedding matrix](#section_1_3)\n",
    "    * [4. Embedding our tweets](#section_1_4)\n",
    "    * [5. Puting all together](#section_1_5)\n",
    "* [II. Preparing the data](#chapter2)\n",
    "    * [1. Loading the data](#section_2_1)\n",
    "    * [2. Making the glove embedding](#section_2_2)\n",
    "* [III. Machine Learning Classification Models](#chapter3)\n",
    "    * [1. Naive Bayes](#section_3_1)\n",
    "    * [2. Logistic Regression](#section_3_2)\n",
    "    * [3. Random Forest](#section_3_3)\n",
    "    * [4. SVM](#section_3_4)\n",
    "* [IV. Making the predictions for Submission](#chapter4)"
   ]
  },
  {
   "cell_type": "code",
   "execution_count": 38,
   "metadata": {},
   "outputs": [],
   "source": [
    "import sys\n",
    "\n",
    "sys.path.insert(1, '/Users/douglasbouchet/M1/ML/ml_project_2_sentwiment/src')\n",
    "\n",
    "import numpy as np\n",
    "import pandas as pd\n",
    "\n",
    "from sklearn.model_selection import train_test_split\n",
    "from sklearn.naive_bayes import BernoulliNB\n",
    "from sklearn.linear_model import LogisticRegression\n",
    "from sklearn.ensemble import RandomForestClassifier\n",
    "from sklearn import svm\n",
    "\n",
    "from evaluate import model_Evaluate\n",
    "from load_utils import load_df\n"
   ]
  },
  {
   "cell_type": "markdown",
   "metadata": {},
   "source": [
    "### I. Creating The Embbeding <a class=\"anchor\" id=\"chapter1\"></a>"
   ]
  },
  {
   "cell_type": "markdown",
   "metadata": {},
   "source": [
    "#### 1. Word to pre-trained Embedding  <a class=\"anchor\" id=\"section_1_1\"></a>"
   ]
  },
  {
   "cell_type": "code",
   "execution_count": 39,
   "metadata": {},
   "outputs": [],
   "source": [
    "def build_dict_w2v(dim=200):\n",
    "    \"\"\"Build a dictionary that map each word existing in the pre-trained embedding to\n",
    "    its vector representation\n",
    "\n",
    "    Args:\n",
    "        dim (int, optional): the dimension of the embedding (25,50,100,200). Defaults to 200.\n",
    "\n",
    "    Returns:\n",
    "        [dict]: dictionary mapping words to their embedded version\n",
    "    \"\"\"\n",
    "    # for each word present in the pre_trained embedding, we put its embedding inside a dict\n",
    "    dict_w2v = {}\n",
    "    with open('../data/word_Embeddings/pre_trained_glove_embedding/glove.twitter.27B.' + str(dim) + 'd.txt', \"r\") as file:\n",
    "        for line in file:\n",
    "            tokens = line.split()\n",
    "            word = tokens[0]\n",
    "            vector = np.array(tokens[1:], dtype=np.float32)\n",
    "            # only append if the size of the embedding is correct (1 or 2 error in the original file)\n",
    "            if vector.shape[0] == dim:\n",
    "                dict_w2v[word] = vector\n",
    "\n",
    "    print(\"Dictionary Size: \", len(dict_w2v))\n",
    "    return dict_w2v"
   ]
  },
  {
   "cell_type": "markdown",
   "metadata": {},
   "source": [
    "#### 2. Building our vocabulary  <a class=\"anchor\" id=\"section_1_2\"></a>"
   ]
  },
  {
   "cell_type": "code",
   "execution_count": 40,
   "metadata": {},
   "outputs": [],
   "source": [
    "\n",
    "def build_vocab(df):\n",
    "    \"\"\"Build the vocabulary, for our dataframe (i.e mapping from word present in our dataframe\n",
    "    to their embedding.\n",
    "    Also compute the index of each word inside the vocabulary (usefull to compute the embedding of\n",
    "    a given word)\n",
    "\n",
    "    Args:\n",
    "        df ([Dataframe]): the dataframe containing the tweet we want to train on (and test)\n",
    "\n",
    "    Returns:\n",
    "        [(dict, dict)]: the vocabulary, and the index of each word in the vocabulary\n",
    "    \"\"\"\n",
    "    # we make a dict of all words present in our dataframe\n",
    "    vocab = {''} \n",
    "    for tweet in df.tweet:\n",
    "        for word in tweet.split(\" \"):\n",
    "            vocab.add(word)\n",
    "    vocab = list(vocab)\n",
    "    # then for each word, we build a dict for getting its index inside the vocavulary\n",
    "    word2loc = {}\n",
    "    for i, word in enumerate(vocab):\n",
    "        word2loc[word] = i\n",
    "\n",
    "    return vocab, word2loc"
   ]
  },
  {
   "cell_type": "markdown",
   "metadata": {},
   "source": [
    "#### 3. Building the embedding matrix  <a class=\"anchor\" id=\"section_1_3\"></a>"
   ]
  },
  {
   "cell_type": "code",
   "execution_count": 41,
   "metadata": {},
   "outputs": [],
   "source": [
    "def build_embedding_matrix(vocab, df, dict_w2v, word2loc, dim=200):\n",
    "    \"\"\"Build the embedding matrix for our dataframe.\n",
    "    If the embedding of a word does not exist, we set the embedding to 0's(dim) by default\n",
    "\n",
    "    Args:\n",
    "        vocab ([dict]): the words present in the glove embedding\n",
    "        df ([Dataframe]): the dataframe we want to embedd\n",
    "        dict_w2v ([dict]): each word to its embedding\n",
    "        word2loc ([dict]): each word to its index\n",
    "        dim (int, optional): dimension of the embedding(25,50,100,200). Defaults to 200.\n",
    "\n",
    "    Returns:\n",
    "        [numpy.ndarray]: the matrix of the embedding\n",
    "    \"\"\"\n",
    "\n",
    "    # For each word of our vocabulary, we have an embedding of \"dim\" size\n",
    "    embedding_matrix = np.zeros((len(vocab), dim))\n",
    "    unk_cnt = 0\n",
    "    n_words = 0\n",
    "    # for each tweet/words of our dataframe, we precompute its embedding\n",
    "    for tweet in df.tweet:\n",
    "        for word in tweet.split(\" \"):\n",
    "            n_words += 1\n",
    "            embedding_vector = dict_w2v.get(word)\n",
    "            if embedding_vector is not None:\n",
    "                embedding_matrix[word2loc[word]] = embedding_vector\n",
    "            else:\n",
    "                unk_cnt += 1\n",
    "\n",
    "    print(\"Unknown words: \", unk_cnt/n_words*100, \"%\")\n",
    "\n",
    "    return embedding_matrix"
   ]
  },
  {
   "cell_type": "markdown",
   "metadata": {},
   "source": [
    "#### 4. Embedding our tweets  <a class=\"anchor\" id=\"section_1_2\"></a>"
   ]
  },
  {
   "cell_type": "code",
   "execution_count": 42,
   "metadata": {},
   "outputs": [],
   "source": [
    "def build_embedded_tweets(df, embedding_matrix, word2loc, dim=200):\n",
    "    \"\"\"Put all our tweet into their embedding form. \n",
    "    We also average each tweet by the embedding of all words of this tweet.\n",
    "    Thus all our tweet will have the same length of dim, regardless of their initial \n",
    "    number of words\n",
    "\n",
    "    Args:\n",
    "        df ([Dataframe]): the dataframe we want to embedd\n",
    "        embedding_matrix ([numpy.ndarray]): matrix that map each word to its embedding\n",
    "        dim (int, optional): dimension of the embedding(25,50,100,200). Defaults to 200.\n",
    "        word2loc ([dict]): each word to its index\n",
    "\n",
    "    Returns:\n",
    "        [numpy.ndarray]: each row 'i' (of size dim) of the matrix is the embedding of the i'th tweet \n",
    "        of the dataframe\n",
    "    \"\"\"\n",
    "\n",
    "    # the embedded matrix is of size #tweets x #embedding size\n",
    "    embedded = np.zeros((len(df.tweet), dim))\n",
    "    for i, tweet in enumerate(df.tweet):\n",
    "        sentence = []\n",
    "        # for each word of our tweet, we get its embedding\n",
    "        for word in tweet.split(\" \"):\n",
    "            sentence.append(embedding_matrix[word2loc[word]])\n",
    "        # next we average the embedding of the tweets with value of embedding of each of its words\n",
    "        # thus each tweet is represented only by a dim embedding\n",
    "        embedded[i] = np.mean(sentence, axis=0)\n",
    "\n",
    "    return embedded"
   ]
  },
  {
   "cell_type": "markdown",
   "metadata": {},
   "source": [
    "#### 5. Puting all together  <a class=\"anchor\" id=\"section_1_5\"></a>"
   ]
  },
  {
   "cell_type": "code",
   "execution_count": 43,
   "metadata": {},
   "outputs": [],
   "source": [
    "def make_glove_embedding(df, test_size=0.2, dim=200, test=False):\n",
    "    \"\"\"Given a dataframe, perfom the glove embedding in the given dimension of all the tweets \n",
    "    of this dataframe. Also split the data in training and validating parts.\n",
    "\n",
    "    Args:\n",
    "        df ([Dataframe]): the dataframe we want to embedd\n",
    "        test_size (float, optional): The ratio of the validating set over all. Defaults to 0.2.\n",
    "        dim (int, optional): dimension of the embedding(25,50,100,200). Defaults to 200.\n",
    "\n",
    "    Returns:\n",
    "        [(numpy.ndarray*4)]: first array correspond to the train_data, next valid_data, next \n",
    "        valid_data, and valid_label\n",
    "    \"\"\"\n",
    "\n",
    "    dict_w2v = build_dict_w2v(dim)\n",
    "    vocab, word2loc = build_vocab(df)\n",
    "    embedding_matrix = build_embedding_matrix(vocab, df, dict_w2v, word2loc)\n",
    "    embedded = build_embedded_tweets(df, embedding_matrix, word2loc)\n",
    "    if(test == False):\n",
    "        return train_test_split(embedded, df.positive, test_size=test_size, random_state=26105111)\n",
    "    else:\n",
    "        return embedded"
   ]
  },
  {
   "cell_type": "markdown",
   "metadata": {},
   "source": [
    "### II. Preparing the data <a class=\"anchor\" id=\"chapter2\"></a>"
   ]
  },
  {
   "cell_type": "markdown",
   "metadata": {},
   "source": [
    "#### 1. Loading the data  <a class=\"anchor\" id=\"section_2_1\"></a>"
   ]
  },
  {
   "cell_type": "code",
   "execution_count": 44,
   "metadata": {},
   "outputs": [],
   "source": [
    "# load the dataframe with all tweets and lemmatize\n",
    "df = load_df(full=True, lemmatize=True)"
   ]
  },
  {
   "cell_type": "markdown",
   "metadata": {},
   "source": [
    "#### 2. Making the glove embedding  <a class=\"anchor\" id=\"section_2_2\"></a>"
   ]
  },
  {
   "cell_type": "code",
   "execution_count": 45,
   "metadata": {},
   "outputs": [
    {
     "name": "stdout",
     "output_type": "stream",
     "text": [
      "Dictionary Size:  1193514\n",
      "Unknown words:  4.4754059564343756 %\n"
     ]
    },
    {
     "data": {
      "text/plain": [
       "((1966637, 200), (491660, 200), (1966637,), (491660,))"
      ]
     },
     "execution_count": 45,
     "metadata": {},
     "output_type": "execute_result"
    }
   ],
   "source": [
    "# on the full dataset, this task should take 3 minutes \n",
    "train_data,valid_data,train_label,valid_label = make_glove_embedding(df)\n",
    "train_data.shape , valid_data.shape , train_label.shape , valid_label.shape"
   ]
  },
  {
   "cell_type": "markdown",
   "metadata": {},
   "source": [
    "### III. Machine Learning Classification Models <a class=\"anchor\" id=\"chapter3\"></a>"
   ]
  },
  {
   "cell_type": "markdown",
   "metadata": {},
   "source": [
    "#### 1. Bernoulli Naive Baye  <a class=\"anchor\" id=\"section_3_1\"></a>"
   ]
  },
  {
   "cell_type": "code",
   "execution_count": 46,
   "metadata": {},
   "outputs": [
    {
     "name": "stdout",
     "output_type": "stream",
     "text": [
      "              precision    recall  f1-score   support\n",
      "\n",
      "          -1       0.69      0.54      0.61    247987\n",
      "           1       0.62      0.76      0.68    243673\n",
      "\n",
      "    accuracy                           0.65    491660\n",
      "   macro avg       0.66      0.65      0.64    491660\n",
      "weighted avg       0.66      0.65      0.64    491660\n",
      "\n"
     ]
    },
    {
     "data": {
      "image/png": "[encoded data removed]",
      "text/plain": [
       "<Figure size 432x288 with 2 Axes>"
      ]
     },
     "metadata": {
      "needs_background": "light"
     },
     "output_type": "display_data"
    }
   ],
   "source": [
    "BNBmodel = BernoulliNB()\n",
    "BNBmodel.fit( train_data,  train_label)\n",
    "model_Evaluate(BNBmodel,  valid_data,  valid_label)"
   ]
  },
  {
   "cell_type": "markdown",
   "metadata": {},
   "source": [
    "#### 2. Logistic Regression  <a class=\"anchor\" id=\"section_3_2\"></a>"
   ]
  },
  {
   "cell_type": "code",
   "execution_count": 47,
   "metadata": {},
   "outputs": [
    {
     "name": "stderr",
     "output_type": "stream",
     "text": [
      "/Users/douglasbouchet/anaconda3/envs/ml/lib/python3.8/site-packages/sklearn/linear_model/_logistic.py:814: ConvergenceWarning: lbfgs failed to converge (status=1):\n",
      "STOP: TOTAL NO. of ITERATIONS REACHED LIMIT.\n",
      "\n",
      "Increase the number of iterations (max_iter) or scale the data as shown in:\n",
      "    https://scikit-learn.org/stable/modules/preprocessing.html\n",
      "Please also refer to the documentation for alternative solver options:\n",
      "    https://scikit-learn.org/stable/modules/linear_model.html#logistic-regression\n",
      "  n_iter_i = _check_optimize_result(\n"
     ]
    },
    {
     "name": "stdout",
     "output_type": "stream",
     "text": [
      "              precision    recall  f1-score   support\n",
      "\n",
      "          -1       0.79      0.77      0.78    247987\n",
      "           1       0.77      0.80      0.78    243673\n",
      "\n",
      "    accuracy                           0.78    491660\n",
      "   macro avg       0.78      0.78      0.78    491660\n",
      "weighted avg       0.78      0.78      0.78    491660\n",
      "\n"
     ]
    },
    {
     "data": {
      "image/png": "[encoded data removed]",
      "text/plain": [
       "<Figure size 432x288 with 2 Axes>"
      ]
     },
     "metadata": {
      "needs_background": "light"
     },
     "output_type": "display_data"
    }
   ],
   "source": [
    "LogisticModel = LogisticRegression()\n",
    "LogisticModel.fit( train_data,  train_label)\n",
    "model_Evaluate(LogisticModel,  valid_data,  valid_label)"
   ]
  },
  {
   "cell_type": "markdown",
   "metadata": {},
   "source": [
    "#### 3. RandomForest Classifier  <a class=\"anchor\" id=\"section_3_3\"></a>"
   ]
  },
  {
   "cell_type": "code",
   "execution_count": 48,
   "metadata": {},
   "outputs": [
    {
     "name": "stdout",
     "output_type": "stream",
     "text": [
      "              precision    recall  f1-score   support\n",
      "\n",
      "          -1       0.76      0.58      0.66    247987\n",
      "           1       0.65      0.81      0.72    243673\n",
      "\n",
      "    accuracy                           0.69    491660\n",
      "   macro avg       0.71      0.69      0.69    491660\n",
      "weighted avg       0.71      0.69      0.69    491660\n",
      "\n"
     ]
    },
    {
     "data": {
      "image/png": "[encoded data removed]",
      "text/plain": [
       "<Figure size 432x288 with 2 Axes>"
      ]
     },
     "metadata": {
      "needs_background": "light"
     },
     "output_type": "display_data"
    }
   ],
   "source": [
    "# this should take arounf 10 minutes for the full dataset\n",
    "clf_rdf = RandomForestClassifier(max_depth=3, bootstrap=True, n_jobs=-1, min_samples_leaf=5)\n",
    "clf_rdf.fit( train_data,  train_label)\n",
    "model_Evaluate(clf_rdf,  valid_data,  valid_label)"
   ]
  },
  {
   "cell_type": "markdown",
   "metadata": {},
   "source": [
    "#### 4. Linear SVM  <a class=\"anchor\" id=\"section_3_4\"></a>"
   ]
  },
  {
   "cell_type": "markdown",
   "metadata": {},
   "source": [
    "For the SVM classifier, we use only the 100 000 first tweets for the training because of time expensiveness\n",
    "of the SVM training process in the number of data points used to create the margins. Although, it gives quite \n",
    "good results"
   ]
  },
  {
   "cell_type": "code",
   "execution_count": 49,
   "metadata": {},
   "outputs": [
    {
     "name": "stderr",
     "output_type": "stream",
     "text": [
      "/Users/douglasbouchet/anaconda3/envs/ml/lib/python3.8/site-packages/sklearn/svm/_base.py:1206: ConvergenceWarning: Liblinear failed to converge, increase the number of iterations.\n",
      "  warnings.warn(\n"
     ]
    },
    {
     "name": "stdout",
     "output_type": "stream",
     "text": [
      "              precision    recall  f1-score   support\n",
      "\n",
      "          -1       0.79      0.76      0.77    247987\n",
      "           1       0.76      0.80      0.78    243673\n",
      "\n",
      "    accuracy                           0.78    491660\n",
      "   macro avg       0.78      0.78      0.78    491660\n",
      "weighted avg       0.78      0.78      0.78    491660\n",
      "\n"
     ]
    },
    {
     "data": {
      "image/png": "[encoded data removed]",
      "text/plain": [
       "<Figure size 432x288 with 2 Axes>"
      ]
     },
     "metadata": {
      "needs_background": "light"
     },
     "output_type": "display_data"
    }
   ],
   "source": [
    "train_data  =  train_data[0:20000]\n",
    "train_label =  train_label[0:20000]\n",
    "lin_clf = svm.LinearSVC()\n",
    "lin_clf.fit(train_data, train_label)\n",
    "model_Evaluate(lin_clf, valid_data, valid_label)"
   ]
  },
  {
   "cell_type": "markdown",
   "metadata": {},
   "source": [
    "### IV. Making the predictions for Submission <a class=\"anchor\" id=\"chapter4\"></a>"
   ]
  },
  {
   "cell_type": "code",
   "execution_count": 50,
   "metadata": {},
   "outputs": [
    {
     "name": "stdout",
     "output_type": "stream",
     "text": [
      "Dictionary Size:  1193514\n",
      "Unknown words:  4.529038620432314 %\n"
     ]
    }
   ],
   "source": [
    "data_test = pd.read_csv('../data/data_submission_preprocessed.csv')\n",
    "x_test = make_glove_embedding(data_test, test_size=0.0, test=True)\n",
    "\n",
    "predictions = lin_clf.predict(x_test)\n",
    "#We rename the Id column in order to be accepted in the submission platform\n",
    "data_test = data_test.rename(columns={'tweet_idx':'Id'})\n",
    "# We add the prections column\n",
    "data_test['Prediction'] = predictions\n",
    "# We save to a csv file only Id, Prediction columns\n",
    "data_test[['Id', 'Prediction']].to_csv('../submission.csv', encoding='utf-8', index=False)\n"
   ]
  },
  {
   "cell_type": "markdown",
   "metadata": {},
   "source": []
  }
 ],
 "metadata": {
  "interpreter": {
   "hash": "c4bf98731e39b0f330e4e7fe339590b91375d5c2f965cb189d278f0fc33c4d2e"
  },
  "kernelspec": {
   "display_name": "Python 3.8.12 64-bit ('ml': conda)",
   "language": "python",
   "name": "python3"
  },
  "language_info": {
   "codemirror_mode": {
    "name": "ipython",
    "version": 3
   },
   "file_extension": ".py",
   "mimetype": "text/x-python",
   "name": "python",
   "nbconvert_exporter": "python",
   "pygments_lexer": "ipython3",
   "version": "3.8.12"
  },
  "orig_nbformat": 4
 },
 "nbformat": 4,
 "nbformat_minor": 2
}
